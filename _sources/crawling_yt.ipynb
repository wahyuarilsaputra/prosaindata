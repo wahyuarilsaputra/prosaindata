{
 "cells": [
  {
   "attachments": {},
   "cell_type": "markdown",
   "metadata": {},
   "source": [
    "# Scrapping Data dari komentar video Youtube "
   ]
  },
  {
   "attachments": {},
   "cell_type": "markdown",
   "metadata": {},
   "source": [
    "## Install Selenium\n",
    "Selenium dapat digunakan untuk membuka browser web, menavigasi ke halaman video yang ingin diambil komentarnya, dan mengambil data komentar dari sumber kode halaman web"
   ]
  },
  {
   "cell_type": "code",
   "execution_count": 2,
   "metadata": {},
   "outputs": [],
   "source": [
    "! pip install selenium --quiet"
   ]
  },
  {
   "attachments": {},
   "cell_type": "markdown",
   "metadata": {},
   "source": [
    "## Install NLTK (Natural Language Toolkit)\n",
    "NLTK digunakan untuk melakukan pemrosesan teks seperti tokenisasi untuk memisahkan teks menjadi kata-kata, stemming untuk mengubah kata-kata ke bentuk dasarnya"
   ]
  },
  {
   "cell_type": "code",
   "execution_count": 3,
   "metadata": {},
   "outputs": [
    {
     "name": "stdout",
     "output_type": "stream",
     "text": [
      "Requirement already satisfied: nltk in c:\\users\\hp\\appdata\\local\\programs\\python\\python311\\lib\\site-packages (3.8.1)\n",
      "Requirement already satisfied: click in c:\\users\\hp\\appdata\\local\\programs\\python\\python311\\lib\\site-packages (from nltk) (8.1.3)\n",
      "Requirement already satisfied: joblib in c:\\users\\hp\\appdata\\local\\programs\\python\\python311\\lib\\site-packages (from nltk) (1.2.0)\n",
      "Requirement already satisfied: regex>=2021.8.3 in c:\\users\\hp\\appdata\\local\\programs\\python\\python311\\lib\\site-packages (from nltk) (2023.5.5)\n",
      "Requirement already satisfied: tqdm in c:\\users\\hp\\appdata\\local\\programs\\python\\python311\\lib\\site-packages (from nltk) (4.65.0)\n",
      "Requirement already satisfied: colorama in c:\\users\\hp\\appdata\\roaming\\python\\python311\\site-packages (from click->nltk) (0.4.6)\n"
     ]
    }
   ],
   "source": [
    "! pip install nltk"
   ]
  },
  {
   "attachments": {},
   "cell_type": "markdown",
   "metadata": {},
   "source": [
    "## Install IndoNLP\n",
    "IndoNLP digunakan untuk melakukan analisis bahasa pada komentar"
   ]
  },
  {
   "cell_type": "code",
   "execution_count": 4,
   "metadata": {},
   "outputs": [
    {
     "name": "stdout",
     "output_type": "stream",
     "text": [
      "Requirement already satisfied: indoNLP in c:\\users\\hp\\appdata\\local\\programs\\python\\python311\\lib\\site-packages (0.3.4)\n"
     ]
    }
   ],
   "source": [
    "! pip install indoNLP"
   ]
  },
  {
   "cell_type": "code",
   "execution_count": 16,
   "metadata": {},
   "outputs": [],
   "source": [
    "import time\n",
    "from selenium import webdriver\n",
    "from selenium.webdriver import Chrome\n",
    "from selenium.webdriver.common.by import By\n",
    "from selenium.webdriver.common.keys import Keys\n",
    "from selenium.webdriver.support.ui import WebDriverWait\n",
    "from selenium.webdriver.support import expected_conditions as EC"
   ]
  },
  {
   "attachments": {},
   "cell_type": "markdown",
   "metadata": {},
   "source": [
    "## Scrapping Data komentar Youtube"
   ]
  },
  {
   "attachments": {},
   "cell_type": "markdown",
   "metadata": {},
   "source": [
    "### Mengambil komentar youtube"
   ]
  },
  {
   "cell_type": "code",
   "execution_count": 25,
   "metadata": {},
   "outputs": [
    {
     "name": "stderr",
     "output_type": "stream",
     "text": [
      "C:\\Users\\HP\\AppData\\Local\\Temp\\ipykernel_13340\\2733254033.py:7: DeprecationWarning: executable_path has been deprecated, please pass in a Service object\n",
      "  with Chrome(executable_path=r'C:\\Program Files\\chromedriver.exe') as driver:\n"
     ]
    }
   ],
   "source": [
    "# Menyimpan data yang akan di crawling\n",
    "data = []\n",
    "\n",
    "url = \"https://www.youtube.com/watch?v=dmZsg9HP1Yw\"\n",
    "\n",
    "# Menghubungkan driver local ke link youtube yang dituju\n",
    "with Chrome(executable_path=r'C:\\Program Files\\chromedriver.exe') as driver:    \n",
    "    wait = WebDriverWait(driver, 10)\n",
    "    driver.get(\n",
    "        url)\n",
    "\n",
    "    # melakukan perulangan untuk scrolling data sebanyak 10 kali\n",
    "    for item in range(10):\n",
    "        wait.until(EC.visibility_of_element_located(\n",
    "            (By.TAG_NAME, \"body\"))).send_keys(Keys.END)\n",
    "        time.sleep(5)\n",
    "\n",
    "    # mencari elemen dengan tag content pada halaman youtube\n",
    "    for comment in wait.until(EC.presence_of_all_elements_located((By.CSS_SELECTOR, \"#content\"))):\n",
    "        data.append(comment.text)"
   ]
  },
  {
   "attachments": {},
   "cell_type": "markdown",
   "metadata": {},
   "source": [
    "### Mengubah data ke DataFrame"
   ]
  },
  {
   "cell_type": "code",
   "execution_count": 26,
   "metadata": {},
   "outputs": [
    {
     "data": {
      "text/html": [
       "<div>\n",
       "<style scoped>\n",
       "    .dataframe tbody tr th:only-of-type {\n",
       "        vertical-align: middle;\n",
       "    }\n",
       "\n",
       "    .dataframe tbody tr th {\n",
       "        vertical-align: top;\n",
       "    }\n",
       "\n",
       "    .dataframe thead th {\n",
       "        text-align: right;\n",
       "    }\n",
       "</style>\n",
       "<table border=\"1\" class=\"dataframe\">\n",
       "  <thead>\n",
       "    <tr style=\"text-align: right;\">\n",
       "      <th></th>\n",
       "      <th>komentar</th>\n",
       "    </tr>\n",
       "  </thead>\n",
       "  <tbody>\n",
       "    <tr>\n",
       "      <th>0</th>\n",
       "      <td>ID\\nSkip navigation\\nSign in\\nPilpres 2024, PD...</td>\n",
       "    </tr>\n",
       "    <tr>\n",
       "      <th>1</th>\n",
       "      <td></td>\n",
       "    </tr>\n",
       "    <tr>\n",
       "      <th>2</th>\n",
       "      <td>Bersatulah untuk orang pemimpin yang Iklas.......</td>\n",
       "    </tr>\n",
       "    <tr>\n",
       "      <th>3</th>\n",
       "      <td>Dari ucapan yang disampaikan Pak GP dan PDIP k...</td>\n",
       "    </tr>\n",
       "    <tr>\n",
       "      <th>4</th>\n",
       "      <td>Kami sebagai rayat jika sudah ada kepastian ca...</td>\n",
       "    </tr>\n",
       "    <tr>\n",
       "      <th>...</th>\n",
       "      <td>...</td>\n",
       "    </tr>\n",
       "    <tr>\n",
       "      <th>124</th>\n",
       "      <td></td>\n",
       "    </tr>\n",
       "    <tr>\n",
       "      <th>125</th>\n",
       "      <td></td>\n",
       "    </tr>\n",
       "    <tr>\n",
       "      <th>126</th>\n",
       "      <td></td>\n",
       "    </tr>\n",
       "    <tr>\n",
       "      <th>127</th>\n",
       "      <td></td>\n",
       "    </tr>\n",
       "    <tr>\n",
       "      <th>128</th>\n",
       "      <td></td>\n",
       "    </tr>\n",
       "  </tbody>\n",
       "</table>\n",
       "<p>129 rows × 1 columns</p>\n",
       "</div>"
      ],
      "text/plain": [
       "                                              komentar\n",
       "0    ID\\nSkip navigation\\nSign in\\nPilpres 2024, PD...\n",
       "1                                                     \n",
       "2    Bersatulah untuk orang pemimpin yang Iklas.......\n",
       "3    Dari ucapan yang disampaikan Pak GP dan PDIP k...\n",
       "4    Kami sebagai rayat jika sudah ada kepastian ca...\n",
       "..                                                 ...\n",
       "124                                                   \n",
       "125                                                   \n",
       "126                                                   \n",
       "127                                                   \n",
       "128                                                   \n",
       "\n",
       "[129 rows x 1 columns]"
      ]
     },
     "execution_count": 26,
     "metadata": {},
     "output_type": "execute_result"
    }
   ],
   "source": [
    "import pandas as pd   \n",
    "df = pd.DataFrame(data, columns=['komentar'])\n",
    "df"
   ]
  },
  {
   "attachments": {},
   "cell_type": "markdown",
   "metadata": {},
   "source": [
    "### Cleaning Data"
   ]
  },
  {
   "attachments": {},
   "cell_type": "markdown",
   "metadata": {},
   "source": [
    "#### Menghilangkan teks yang tidak digunakan"
   ]
  },
  {
   "cell_type": "code",
   "execution_count": 19,
   "metadata": {},
   "outputs": [],
   "source": [
    "import re\n",
    "import string\n",
    "import numpy as np\n",
    "\n",
    "# Teks Cleaning\n",
    "\n",
    "\n",
    "def cleaning(text):\n",
    "    # Menghilangkan tag bawaan HTML\n",
    "\n",
    "    text = re.compile(\n",
    "        '<.*?>|&([a-z0-9]+|#[0-9]{1,6}|#x[0-9a-f]{1,6});').sub('', str(text))\n",
    "\n",
    "    # mengubah defaukt teks ke huruf kecil\n",
    "    text = text.lower()\n",
    "\n",
    "    # menghapus karakter kosong di depan dan belakang teks\n",
    "    text = text.strip()\n",
    "\n",
    "    # menghapus tanda baca, karakter spesial, dan spasi ganda\n",
    "    text = re.compile('<.*?>').sub('', text)\n",
    "    text = re.compile('[%s]' % re.escape(string.punctuation)).sub(' ', text)\n",
    "    text = re.sub('\\s+', ' ', text)\n",
    "\n",
    "    # menghapus teks yang berisi angka\n",
    "    text = re.sub(r'\\[[0-9]*\\]', ' ', text)\n",
    "    text = re.sub(r'[^\\w\\s]', '', str(text).lower().strip())\n",
    "    text = re.sub(r'\\d', ' ', text)\n",
    "    text = re.sub(r'\\s+', ' ', text)\n",
    "\n",
    "    # Mengubah text 'nan' dengan whitespace agar nantinya dapat dihapus\n",
    "    text = re.sub('nan', '', text)\n",
    "\n",
    "    # Menghapus bawaan teks youtube\n",
    "    text = re.sub('id', '', text)\n",
    "    text = re.sub('skip', '', text)\n",
    "    text = re.sub('navigation', '', text)\n",
    "    text = re.sub('sign', '', text)\n",
    "\n",
    "    return text"
   ]
  },
  {
   "attachments": {},
   "cell_type": "markdown",
   "metadata": {},
   "source": [
    "#### Steaming Data"
   ]
  },
  {
   "cell_type": "code",
   "execution_count": 20,
   "metadata": {},
   "outputs": [],
   "source": [
    "# Import \n",
    "from nltk.stem import PorterStemmer\n",
    "from indoNLP.preprocessing import pipeline, replace_word_elongation, replace_slang, emoji_to_words, remove_html\n",
    "pipe = pipeline([replace_word_elongation, replace_slang,\n",
    "                emoji_to_words, remove_html])\n",
    "# steamming\n",
    "ps = PorterStemmer()"
   ]
  },
  {
   "attachments": {},
   "cell_type": "markdown",
   "metadata": {},
   "source": [
    "#### Ubah data awal dan cleaning ke DataFrame"
   ]
  },
  {
   "cell_type": "code",
   "execution_count": 21,
   "metadata": {},
   "outputs": [],
   "source": [
    "df['hasil komentar'] = df['komentar'].apply(lambda x: pipe(x))\n",
    "df['hasil komentar'] = df['hasil komentar'].apply(lambda x: cleaning(x))\n",
    "# ubah empty string menjadi NaN\n",
    "df['hasil komentar'] = df['hasil komentar'].replace('', np.nan)"
   ]
  },
  {
   "attachments": {},
   "cell_type": "markdown",
   "metadata": {},
   "source": [
    "#### Cek nilai yang kosong (NaN)"
   ]
  },
  {
   "cell_type": "code",
   "execution_count": 22,
   "metadata": {},
   "outputs": [
    {
     "name": "stdout",
     "output_type": "stream",
     "text": [
      "komentar          0\n",
      "hasil komentar    8\n",
      "dtype: int64\n"
     ]
    }
   ],
   "source": [
    "print(df.isna().sum())"
   ]
  },
  {
   "attachments": {},
   "cell_type": "markdown",
   "metadata": {},
   "source": [
    "#### Menghapus data Missing Value (Nan)"
   ]
  },
  {
   "cell_type": "code",
   "execution_count": 23,
   "metadata": {},
   "outputs": [],
   "source": [
    "df.dropna(inplace=True)"
   ]
  },
  {
   "attachments": {},
   "cell_type": "markdown",
   "metadata": {},
   "source": [
    "#### Print hasil data"
   ]
  },
  {
   "cell_type": "code",
   "execution_count": 24,
   "metadata": {},
   "outputs": [
    {
     "data": {
      "text/html": [
       "<div>\n",
       "<style scoped>\n",
       "    .dataframe tbody tr th:only-of-type {\n",
       "        vertical-align: middle;\n",
       "    }\n",
       "\n",
       "    .dataframe tbody tr th {\n",
       "        vertical-align: top;\n",
       "    }\n",
       "\n",
       "    .dataframe thead th {\n",
       "        text-align: right;\n",
       "    }\n",
       "</style>\n",
       "<table border=\"1\" class=\"dataframe\">\n",
       "  <thead>\n",
       "    <tr style=\"text-align: right;\">\n",
       "      <th></th>\n",
       "      <th>komentar</th>\n",
       "      <th>hasil komentar</th>\n",
       "    </tr>\n",
       "  </thead>\n",
       "  <tbody>\n",
       "    <tr>\n",
       "      <th>0</th>\n",
       "      <td>ID\\nSkip navigation\\nSign in\\nPilpres 2024, PD...</td>\n",
       "      <td>ini pilpres pdi p megawati umumkan capres ...</td>\n",
       "    </tr>\n",
       "    <tr>\n",
       "      <th>2</th>\n",
       "      <td>Bersatulah untuk orang pemimpin yang Iklas.......</td>\n",
       "      <td>bersatulah untuk orang pemimpin yang iklas buk...</td>\n",
       "    </tr>\n",
       "    <tr>\n",
       "      <th>3</th>\n",
       "      <td>Dari ucapan yang disampaikan Pak GP dan PDIP k...</td>\n",
       "      <td>dari ucapan yang disampaikan pak gp dan pdip k...</td>\n",
       "    </tr>\n",
       "    <tr>\n",
       "      <th>4</th>\n",
       "      <td>Kami sebagai rayat jika sudah ada kepastian ca...</td>\n",
       "      <td>kami sebagai rayat jika sudah ada kepastian ca...</td>\n",
       "    </tr>\n",
       "    <tr>\n",
       "      <th>5</th>\n",
       "      <td>Mantap inilah yg di tunggu tunggu Olh rakyat ...</td>\n",
       "      <td>mantap inilah yang di tunggu tunggu olh rakyat...</td>\n",
       "    </tr>\n",
       "    <tr>\n",
       "      <th>6</th>\n",
       "      <td>Sebaiknya Ganjar berduet dgn Mahfud..maka pemb...</td>\n",
       "      <td>sebaiknya ganjar berduet dengan mahfud maka pe...</td>\n",
       "    </tr>\n",
       "    <tr>\n",
       "      <th>7</th>\n",
       "      <td>Bismillah semoga koalisi PKS Demokrat dan Nasd...</td>\n",
       "      <td>bismillah semoga koalisi pks demokrat dan nasd...</td>\n",
       "    </tr>\n",
       "    <tr>\n",
       "      <th>8</th>\n",
       "      <td>Kami hanya mendukung partai politik yang konsi...</td>\n",
       "      <td>kami hanya mendukung partai politik yang konsi...</td>\n",
       "    </tr>\n",
       "    <tr>\n",
       "      <th>9</th>\n",
       "      <td>KB ini bisa saja mengaplikasikan cita2 luhur p...</td>\n",
       "      <td>kb ini bisa saja mengaplikasikan cita cita luh...</td>\n",
       "    </tr>\n",
       "    <tr>\n",
       "      <th>10</th>\n",
       "      <td>Harapan saya hanya satu.. Yaitu pasangan yang ...</td>\n",
       "      <td>harapan saya hanya satu yaitu pasangan yang ea...</td>\n",
       "    </tr>\n",
       "    <tr>\n",
       "      <th>11</th>\n",
       "      <td>Sudah kapok parpol sarang koruptor.... Bikin s...</td>\n",
       "      <td>sudah kapok parpol sarang koruptor bikin susah</td>\n",
       "    </tr>\n",
       "    <tr>\n",
       "      <th>12</th>\n",
       "      <td>Kalau saya lebih baik mendukung pak mahpud MD ...</td>\n",
       "      <td>kalau saya lebih baik mendukung pak mahpud md ...</td>\n",
       "    </tr>\n",
       "    <tr>\n",
       "      <th>13</th>\n",
       "      <td>Saya yakin itu hanya koalisi para elitnya saja...</td>\n",
       "      <td>saya yakin itu hanya koalisi para elitnya saja...</td>\n",
       "    </tr>\n",
       "    <tr>\n",
       "      <th>14</th>\n",
       "      <td>Apapun alasan masyarakat harus berpikiran cerd...</td>\n",
       "      <td>apapun alasan masyarakat harus berpikiran cerd...</td>\n",
       "    </tr>\n",
       "    <tr>\n",
       "      <th>15</th>\n",
       "      <td>Semoga masyarakat Indonesia memilih pemimpin y...</td>\n",
       "      <td>semoga masyarakat indonesia memilih pemimpin y...</td>\n",
       "    </tr>\n",
       "    <tr>\n",
       "      <th>16</th>\n",
       "      <td>Kepuasan Publik yang tinggi bahkan sampai deng...</td>\n",
       "      <td>kepuasan publik yang tinggi bahkan sampai deng...</td>\n",
       "    </tr>\n",
       "    <tr>\n",
       "      <th>17</th>\n",
       "      <td>KIB dan KIR teruslah mengekor pak Jokowi kalau...</td>\n",
       "      <td>kib dan kir teruslah mengekor pak jokowi kalau...</td>\n",
       "    </tr>\n",
       "    <tr>\n",
       "      <th>18</th>\n",
       "      <td>Pak Yulianto punya pandangan yang terus real b...</td>\n",
       "      <td>pak yulianto punya pandangan yang terus real b...</td>\n",
       "    </tr>\n",
       "    <tr>\n",
       "      <th>19</th>\n",
       "      <td>Menjijikan...politikus pada dusta</td>\n",
       "      <td>menjijikan politikus pada dusta</td>\n",
       "    </tr>\n",
       "    <tr>\n",
       "      <th>20</th>\n",
       "      <td>Lembaga survei di negeri ini tidak satu pun yg...</td>\n",
       "      <td>lembaga survei di negeri ini tak satu pun yang...</td>\n",
       "    </tr>\n",
       "    <tr>\n",
       "      <th>21</th>\n",
       "      <td>SEMOGA KERJASAMA ANTAR PARPOL2  YANG ADA UNTUK...</td>\n",
       "      <td>semoga kerjasama antar parpol yang ada untuk m...</td>\n",
       "    </tr>\n",
       "  </tbody>\n",
       "</table>\n",
       "</div>"
      ],
      "text/plain": [
       "                                             komentar  \\\n",
       "0   ID\\nSkip navigation\\nSign in\\nPilpres 2024, PD...   \n",
       "2   Bersatulah untuk orang pemimpin yang Iklas.......   \n",
       "3   Dari ucapan yang disampaikan Pak GP dan PDIP k...   \n",
       "4   Kami sebagai rayat jika sudah ada kepastian ca...   \n",
       "5    Mantap inilah yg di tunggu tunggu Olh rakyat ...   \n",
       "6   Sebaiknya Ganjar berduet dgn Mahfud..maka pemb...   \n",
       "7   Bismillah semoga koalisi PKS Demokrat dan Nasd...   \n",
       "8   Kami hanya mendukung partai politik yang konsi...   \n",
       "9   KB ini bisa saja mengaplikasikan cita2 luhur p...   \n",
       "10  Harapan saya hanya satu.. Yaitu pasangan yang ...   \n",
       "11  Sudah kapok parpol sarang koruptor.... Bikin s...   \n",
       "12  Kalau saya lebih baik mendukung pak mahpud MD ...   \n",
       "13  Saya yakin itu hanya koalisi para elitnya saja...   \n",
       "14  Apapun alasan masyarakat harus berpikiran cerd...   \n",
       "15  Semoga masyarakat Indonesia memilih pemimpin y...   \n",
       "16  Kepuasan Publik yang tinggi bahkan sampai deng...   \n",
       "17  KIB dan KIR teruslah mengekor pak Jokowi kalau...   \n",
       "18  Pak Yulianto punya pandangan yang terus real b...   \n",
       "19                  Menjijikan...politikus pada dusta   \n",
       "20  Lembaga survei di negeri ini tidak satu pun yg...   \n",
       "21  SEMOGA KERJASAMA ANTAR PARPOL2  YANG ADA UNTUK...   \n",
       "\n",
       "                                       hasil komentar  \n",
       "0       ini pilpres pdi p megawati umumkan capres ...  \n",
       "2   bersatulah untuk orang pemimpin yang iklas buk...  \n",
       "3   dari ucapan yang disampaikan pak gp dan pdip k...  \n",
       "4   kami sebagai rayat jika sudah ada kepastian ca...  \n",
       "5   mantap inilah yang di tunggu tunggu olh rakyat...  \n",
       "6   sebaiknya ganjar berduet dengan mahfud maka pe...  \n",
       "7   bismillah semoga koalisi pks demokrat dan nasd...  \n",
       "8   kami hanya mendukung partai politik yang konsi...  \n",
       "9   kb ini bisa saja mengaplikasikan cita cita luh...  \n",
       "10  harapan saya hanya satu yaitu pasangan yang ea...  \n",
       "11     sudah kapok parpol sarang koruptor bikin susah  \n",
       "12  kalau saya lebih baik mendukung pak mahpud md ...  \n",
       "13  saya yakin itu hanya koalisi para elitnya saja...  \n",
       "14  apapun alasan masyarakat harus berpikiran cerd...  \n",
       "15  semoga masyarakat indonesia memilih pemimpin y...  \n",
       "16  kepuasan publik yang tinggi bahkan sampai deng...  \n",
       "17  kib dan kir teruslah mengekor pak jokowi kalau...  \n",
       "18  pak yulianto punya pandangan yang terus real b...  \n",
       "19                    menjijikan politikus pada dusta  \n",
       "20  lembaga survei di negeri ini tak satu pun yang...  \n",
       "21  semoga kerjasama antar parpol yang ada untuk m...  "
      ]
     },
     "execution_count": 24,
     "metadata": {},
     "output_type": "execute_result"
    }
   ],
   "source": [
    "df"
   ]
  },
  {
   "attachments": {},
   "cell_type": "markdown",
   "metadata": {},
   "source": [
    "#### Import data ke CSV"
   ]
  },
  {
   "cell_type": "code",
   "execution_count": 32,
   "metadata": {},
   "outputs": [],
   "source": [
    "# to csv\n",
    "df.to_csv('Data_KomentarYoutube.csv', index=False)"
   ]
  },
  {
   "cell_type": "code",
   "execution_count": null,
   "metadata": {},
   "outputs": [],
   "source": []
  }
 ],
 "metadata": {
  "kernelspec": {
   "display_name": "Python 3",
   "language": "python",
   "name": "python3"
  },
  "language_info": {
   "codemirror_mode": {
    "name": "ipython",
    "version": 3
   },
   "file_extension": ".py",
   "mimetype": "text/x-python",
   "name": "python",
   "nbconvert_exporter": "python",
   "pygments_lexer": "ipython3",
   "version": "3.11.2"
  },
  "orig_nbformat": 4
 },
 "nbformat": 4,
 "nbformat_minor": 2
}
